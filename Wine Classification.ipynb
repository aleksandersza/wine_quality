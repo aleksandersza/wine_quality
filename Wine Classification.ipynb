{
 "cells": [
  {
   "cell_type": "code",
   "execution_count": 1,
   "id": "5a908b0e",
   "metadata": {},
   "outputs": [],
   "source": [
    "import pandas as pd\n",
    "import numpy as np\n",
    "import matplotlib.pyplot as plt\n",
    "import seaborn as sns\n",
    "from pandas_profiling import ProfileReport\n",
    "from sklearn.model_selection import train_test_split\n",
    "from scipy import stats\n",
    "from sklearn.linear_model import LinearRegression\n",
    "import statsmodels.api as sm\n",
    "from sklearn.metrics import mean_squared_error\n",
    "from sklearn.preprocessing import PolynomialFeatures\n",
    "from sklearn.model_selection import cross_val_score\n",
    "from sklearn.model_selection import RepeatedKFold\n",
    "from sklearn.model_selection import RepeatedStratifiedKFold\n",
    "import xgboost as xgb\n",
    "from statsmodels.stats.outliers_influence import variance_inflation_factor\n",
    "from sklearn.feature_selection import SelectFromModel\n",
    "from sklearn.model_selection import RandomizedSearchCV\n",
    "from sklearn.model_selection import GridSearchCV\n",
    "from sklearn.linear_model import LogisticRegression\n",
    "from sklearn.naive_bayes import GaussianNB\n",
    "from sklearn.neighbors import KNeighborsClassifier\n",
    "from sklearn.svm import SVC\n",
    "from sklearn.metrics import roc_auc_score\n",
    "from sklearn.metrics import plot_roc_curve\n",
    "import dalex as dx\n",
    "import warnings\n",
    "warnings.simplefilter(action='ignore', category=FutureWarning)"
   ]
  },
  {
   "cell_type": "code",
   "execution_count": 2,
   "id": "97e9d1c5",
   "metadata": {},
   "outputs": [],
   "source": [
    "df = pd.read_csv(\"winequality-red.csv\")"
   ]
  },
  {
   "cell_type": "code",
   "execution_count": 3,
   "id": "9c559a4b",
   "metadata": {},
   "outputs": [
    {
     "data": {
      "application/vnd.jupyter.widget-view+json": {
       "model_id": "301f77491e984474838b1fefd79e1e16",
       "version_major": 2,
       "version_minor": 0
      },
      "text/plain": [
       "Summarize dataset:   0%|          | 0/5 [00:00<?, ?it/s]"
      ]
     },
     "metadata": {},
     "output_type": "display_data"
    },
    {
     "data": {
      "application/vnd.jupyter.widget-view+json": {
       "model_id": "d882f06e828f475fa53ca53c3e75fd53",
       "version_major": 2,
       "version_minor": 0
      },
      "text/plain": [
       "Generate report structure:   0%|          | 0/1 [00:00<?, ?it/s]"
      ]
     },
     "metadata": {},
     "output_type": "display_data"
    },
    {
     "data": {
      "application/vnd.jupyter.widget-view+json": {
       "model_id": "071ccdc3808d4e9ba0ef4af3dcbb8454",
       "version_major": 2,
       "version_minor": 0
      },
      "text/plain": [
       "Render HTML:   0%|          | 0/1 [00:00<?, ?it/s]"
      ]
     },
     "metadata": {},
     "output_type": "display_data"
    },
    {
     "data": {
      "application/vnd.jupyter.widget-view+json": {
       "model_id": "152f70f017eb4fab8429d51aab7d7780",
       "version_major": 2,
       "version_minor": 0
      },
      "text/plain": [
       "Export report to file:   0%|          | 0/1 [00:00<?, ?it/s]"
      ]
     },
     "metadata": {},
     "output_type": "display_data"
    }
   ],
   "source": [
    "ProfileReport(df)\n",
    "ProfileReport(df).to_file(output_file='wine_classification_profiling_report.html')"
   ]
  },
  {
   "cell_type": "markdown",
   "id": "a2e1eb5a",
   "metadata": {},
   "source": [
    "Comment on EDA:\n",
    "\n",
    "Distributions:\n",
    "sulphates, pH and fixed acidity seem to have normal distribution. This will be later checked with a statistical test.\n",
    "\n",
    "Correlations (Spearmans):\n",
    "Fixed acidity - negative correlation between pH. Explainable with basic chemistry knowledge - there are 14 values on pH scale. The lower the value, the higher the acidity. Substances regarded as \"acidic\" would be in range (1, 7) . Substances regarded as \"alkaline\", would be in range (7, 14). In this case, higher acidity -> more acidic substance -> lower pH.\n",
    "\n",
    "Fixed acidity - positive correlation between citric acid. Citric acid is regarded as acidic substance, so a natural correlation occurs.\n",
    "Fixed acidity - positive correlation between density. Acidic substances are more dense than water (which has pH equal to 7).\n",
    "\n",
    "Volatile acidity - negative correlation between quality. As described in the dataset, it is \"the amount of acetic acid in wine, which at too high of levels can lead to an unpleasant, vinegar taste\""
   ]
  },
  {
   "cell_type": "code",
   "execution_count": 4,
   "id": "53dc93a3",
   "metadata": {},
   "outputs": [],
   "source": [
    "df.drop_duplicates(inplace=True)"
   ]
  },
  {
   "cell_type": "markdown",
   "id": "54a30a29",
   "metadata": {},
   "source": [
    "Normality tests for variables:"
   ]
  },
  {
   "cell_type": "code",
   "execution_count": 5,
   "id": "977731b8",
   "metadata": {},
   "outputs": [
    {
     "name": "stdout",
     "output_type": "stream",
     "text": [
      "fixed acidity does not have a normal distribution on 5% confidence level, based on Shapiro-Wilk test, test stat: 0.95, p-val: 0.0\n",
      "volatile acidity does not have a normal distribution on 5% confidence level, based on Shapiro-Wilk test, test stat: 0.97, p-val: 0.0\n",
      "citric acid does not have a normal distribution on 5% confidence level, based on Shapiro-Wilk test, test stat: 0.96, p-val: 0.0\n",
      "residual sugar does not have a normal distribution on 5% confidence level, based on Shapiro-Wilk test, test stat: 0.58, p-val: 0.0\n",
      "chlorides does not have a normal distribution on 5% confidence level, based on Shapiro-Wilk test, test stat: 0.48, p-val: 0.0\n",
      "free sulfur dioxide does not have a normal distribution on 5% confidence level, based on Shapiro-Wilk test, test stat: 0.9, p-val: 0.0\n",
      "total sulfur dioxide does not have a normal distribution on 5% confidence level, based on Shapiro-Wilk test, test stat: 0.87, p-val: 0.0\n",
      "density does not have a normal distribution on 5% confidence level, based on Shapiro-Wilk test, test stat: 0.99, p-val: 0.0\n",
      "pH does not have a normal distribution on 5% confidence level, based on Shapiro-Wilk test, test stat: 0.99, p-val: 0.0\n",
      "sulphates does not have a normal distribution on 5% confidence level, based on Shapiro-Wilk test, test stat: 0.83, p-val: 0.0\n",
      "alcohol does not have a normal distribution on 5% confidence level, based on Shapiro-Wilk test, test stat: 0.93, p-val: 0.0\n",
      "quality does not have a normal distribution on 5% confidence level, based on Shapiro-Wilk test, test stat: 0.86, p-val: 0.0\n"
     ]
    }
   ],
   "source": [
    "for i in df.columns:\n",
    "    print(f'''{i} does {'not' if stats.shapiro(df[i]).pvalue < 0.05 else ''} have a normal distribution on 5% confidence level, based on Shapiro-Wilk test, test stat: {round(stats.shapiro(df[i]).statistic, 2)}, p-val: {round(stats.shapiro(df[i]).pvalue, 4)}''')"
   ]
  },
  {
   "cell_type": "markdown",
   "id": "155f0b7b",
   "metadata": {},
   "source": [
    "# Approach"
   ]
  },
  {
   "cell_type": "markdown",
   "id": "2aae5152",
   "metadata": {},
   "source": [
    "1) Quality prediction\n",
    "\n",
    "2) Prediction weather the wine is good or bad"
   ]
  },
  {
   "cell_type": "code",
   "execution_count": 6,
   "id": "aadbf677",
   "metadata": {},
   "outputs": [],
   "source": [
    "y = df[\"quality\"]\n",
    "X = df.drop([\"quality\", \"pH\", \"citric acid\", \"density\"], axis = 1) #dropping highly correlated features\n",
    "X_train, X_test, y_train, y_test=train_test_split(X, y, test_size=0.33, random_state=42)"
   ]
  },
  {
   "cell_type": "markdown",
   "id": "586ce2b9",
   "metadata": {},
   "source": [
    "Quality prediction - regression metric used will be MSE\n",
    "linear regression - OLS"
   ]
  },
  {
   "cell_type": "code",
   "execution_count": 7,
   "id": "12dcd47a",
   "metadata": {},
   "outputs": [],
   "source": [
    "x_lr = X\n",
    "x_lr = sm.add_constant(x_lr)\n",
    "model = sm.OLS(y, x_lr)\n",
    "results = model.fit()"
   ]
  },
  {
   "cell_type": "code",
   "execution_count": 8,
   "id": "17ae200d",
   "metadata": {},
   "outputs": [
    {
     "name": "stdout",
     "output_type": "stream",
     "text": [
      "p-value for white's heteroskedascity test is: 7.687441900163101e-20\n"
     ]
    }
   ],
   "source": [
    "print(f'''p-value for white's heteroskedascity test is: {sm.stats.diagnostic.het_white(results.resid,  results.model.exog)[1]}''')\n"
   ]
  },
  {
   "cell_type": "code",
   "execution_count": 9,
   "id": "81cbc3ad",
   "metadata": {},
   "outputs": [
    {
     "data": {
      "text/html": [
       "<table class=\"simpletable\">\n",
       "<caption>OLS Regression Results</caption>\n",
       "<tr>\n",
       "  <th>Dep. Variable:</th>         <td>quality</td>     <th>  R-squared:         </th> <td>   0.359</td> \n",
       "</tr>\n",
       "<tr>\n",
       "  <th>Model:</th>                   <td>OLS</td>       <th>  Adj. R-squared:    </th> <td>   0.356</td> \n",
       "</tr>\n",
       "<tr>\n",
       "  <th>Method:</th>             <td>Least Squares</td>  <th>  F-statistic:       </th> <td>   91.75</td> \n",
       "</tr>\n",
       "<tr>\n",
       "  <th>Date:</th>             <td>Sun, 01 May 2022</td> <th>  Prob (F-statistic):</th> <td>1.18e-121</td>\n",
       "</tr>\n",
       "<tr>\n",
       "  <th>Time:</th>                 <td>21:53:24</td>     <th>  Log-Likelihood:    </th> <td> -1361.4</td> \n",
       "</tr>\n",
       "<tr>\n",
       "  <th>No. Observations:</th>      <td>  1359</td>      <th>  AIC:               </th> <td>   2741.</td> \n",
       "</tr>\n",
       "<tr>\n",
       "  <th>Df Residuals:</th>          <td>  1350</td>      <th>  BIC:               </th> <td>   2788.</td> \n",
       "</tr>\n",
       "<tr>\n",
       "  <th>Df Model:</th>              <td>     8</td>      <th>                     </th>     <td> </td>    \n",
       "</tr>\n",
       "<tr>\n",
       "  <th>Covariance Type:</th>         <td>HC1</td>       <th>                     </th>     <td> </td>    \n",
       "</tr>\n",
       "</table>\n",
       "<table class=\"simpletable\">\n",
       "<tr>\n",
       "            <td></td>              <th>coef</th>     <th>std err</th>      <th>z</th>      <th>P>|z|</th>  <th>[0.025</th>    <th>0.975]</th>  \n",
       "</tr>\n",
       "<tr>\n",
       "  <th>const</th>                <td>    2.6863</td> <td>    0.304</td> <td>    8.843</td> <td> 0.000</td> <td>    2.091</td> <td>    3.282</td>\n",
       "</tr>\n",
       "<tr>\n",
       "  <th>fixed acidity</th>        <td>    0.0224</td> <td>    0.013</td> <td>    1.675</td> <td> 0.094</td> <td>   -0.004</td> <td>    0.049</td>\n",
       "</tr>\n",
       "<tr>\n",
       "  <th>volatile acidity</th>     <td>   -1.1138</td> <td>    0.124</td> <td>   -8.972</td> <td> 0.000</td> <td>   -1.357</td> <td>   -0.871</td>\n",
       "</tr>\n",
       "<tr>\n",
       "  <th>residual sugar</th>       <td>    0.0021</td> <td>    0.017</td> <td>    0.123</td> <td> 0.902</td> <td>   -0.031</td> <td>    0.035</td>\n",
       "</tr>\n",
       "<tr>\n",
       "  <th>chlorides</th>            <td>   -1.7725</td> <td>    0.462</td> <td>   -3.840</td> <td> 0.000</td> <td>   -2.677</td> <td>   -0.868</td>\n",
       "</tr>\n",
       "<tr>\n",
       "  <th>free sulfur dioxide</th>  <td>    0.0030</td> <td>    0.002</td> <td>    1.262</td> <td> 0.207</td> <td>   -0.002</td> <td>    0.008</td>\n",
       "</tr>\n",
       "<tr>\n",
       "  <th>total sulfur dioxide</th> <td>   -0.0025</td> <td>    0.001</td> <td>   -3.248</td> <td> 0.001</td> <td>   -0.004</td> <td>   -0.001</td>\n",
       "</tr>\n",
       "<tr>\n",
       "  <th>sulphates</th>            <td>    0.8949</td> <td>    0.144</td> <td>    6.199</td> <td> 0.000</td> <td>    0.612</td> <td>    1.178</td>\n",
       "</tr>\n",
       "<tr>\n",
       "  <th>alcohol</th>              <td>    0.2848</td> <td>    0.021</td> <td>   13.317</td> <td> 0.000</td> <td>    0.243</td> <td>    0.327</td>\n",
       "</tr>\n",
       "</table>\n",
       "<table class=\"simpletable\">\n",
       "<tr>\n",
       "  <th>Omnibus:</th>       <td>28.656</td> <th>  Durbin-Watson:     </th> <td>   1.790</td>\n",
       "</tr>\n",
       "<tr>\n",
       "  <th>Prob(Omnibus):</th> <td> 0.000</td> <th>  Jarque-Bera (JB):  </th> <td>  42.599</td>\n",
       "</tr>\n",
       "<tr>\n",
       "  <th>Skew:</th>          <td>-0.208</td> <th>  Prob(JB):          </th> <td>5.62e-10</td>\n",
       "</tr>\n",
       "<tr>\n",
       "  <th>Kurtosis:</th>      <td> 3.761</td> <th>  Cond. No.          </th> <td>1.45e+03</td>\n",
       "</tr>\n",
       "</table><br/><br/>Notes:<br/>[1] Standard Errors are heteroscedasticity robust (HC1)<br/>[2] The condition number is large, 1.45e+03. This might indicate that there are<br/>strong multicollinearity or other numerical problems."
      ],
      "text/plain": [
       "<class 'statsmodels.iolib.summary.Summary'>\n",
       "\"\"\"\n",
       "                            OLS Regression Results                            \n",
       "==============================================================================\n",
       "Dep. Variable:                quality   R-squared:                       0.359\n",
       "Model:                            OLS   Adj. R-squared:                  0.356\n",
       "Method:                 Least Squares   F-statistic:                     91.75\n",
       "Date:                Sun, 01 May 2022   Prob (F-statistic):          1.18e-121\n",
       "Time:                        21:53:24   Log-Likelihood:                -1361.4\n",
       "No. Observations:                1359   AIC:                             2741.\n",
       "Df Residuals:                    1350   BIC:                             2788.\n",
       "Df Model:                           8                                         \n",
       "Covariance Type:                  HC1                                         \n",
       "========================================================================================\n",
       "                           coef    std err          z      P>|z|      [0.025      0.975]\n",
       "----------------------------------------------------------------------------------------\n",
       "const                    2.6863      0.304      8.843      0.000       2.091       3.282\n",
       "fixed acidity            0.0224      0.013      1.675      0.094      -0.004       0.049\n",
       "volatile acidity        -1.1138      0.124     -8.972      0.000      -1.357      -0.871\n",
       "residual sugar           0.0021      0.017      0.123      0.902      -0.031       0.035\n",
       "chlorides               -1.7725      0.462     -3.840      0.000      -2.677      -0.868\n",
       "free sulfur dioxide      0.0030      0.002      1.262      0.207      -0.002       0.008\n",
       "total sulfur dioxide    -0.0025      0.001     -3.248      0.001      -0.004      -0.001\n",
       "sulphates                0.8949      0.144      6.199      0.000       0.612       1.178\n",
       "alcohol                  0.2848      0.021     13.317      0.000       0.243       0.327\n",
       "==============================================================================\n",
       "Omnibus:                       28.656   Durbin-Watson:                   1.790\n",
       "Prob(Omnibus):                  0.000   Jarque-Bera (JB):               42.599\n",
       "Skew:                          -0.208   Prob(JB):                     5.62e-10\n",
       "Kurtosis:                       3.761   Cond. No.                     1.45e+03\n",
       "==============================================================================\n",
       "\n",
       "Notes:\n",
       "[1] Standard Errors are heteroscedasticity robust (HC1)\n",
       "[2] The condition number is large, 1.45e+03. This might indicate that there are\n",
       "strong multicollinearity or other numerical problems.\n",
       "\"\"\""
      ]
     },
     "execution_count": 9,
     "metadata": {},
     "output_type": "execute_result"
    }
   ],
   "source": [
    "results_r = model.fit(cov_type=\"HC1\")\n",
    "results_r.summary()"
   ]
  },
  {
   "cell_type": "code",
   "execution_count": 10,
   "id": "4bee31da",
   "metadata": {},
   "outputs": [],
   "source": [
    "vif_data = pd.DataFrame()\n",
    "vif_data[\"feature\"] = X.columns\n",
    "vif_data[\"VIF\"] = [variance_inflation_factor(X.values, i) for i in range(len(X.columns))]"
   ]
  },
  {
   "cell_type": "code",
   "execution_count": 11,
   "id": "b54067b4",
   "metadata": {},
   "outputs": [],
   "source": [
    "vif_adj_cols = vif_data[vif_data.VIF < 10][\"feature\"].values"
   ]
  },
  {
   "cell_type": "markdown",
   "id": "fc375d47",
   "metadata": {},
   "source": [
    "Creating more general model"
   ]
  },
  {
   "cell_type": "code",
   "execution_count": 12,
   "id": "3b25de6f",
   "metadata": {},
   "outputs": [],
   "source": [
    "vif_adj_x = X[vif_adj_cols]\n",
    "vif_adj_x = sm.add_constant(vif_adj_x)"
   ]
  },
  {
   "cell_type": "code",
   "execution_count": 13,
   "id": "9e168a25",
   "metadata": {},
   "outputs": [
    {
     "data": {
      "text/html": [
       "<table class=\"simpletable\">\n",
       "<caption>OLS Regression Results</caption>\n",
       "<tr>\n",
       "  <th>Dep. Variable:</th>         <td>quality</td>     <th>  R-squared:         </th> <td>   0.194</td>\n",
       "</tr>\n",
       "<tr>\n",
       "  <th>Model:</th>                   <td>OLS</td>       <th>  Adj. R-squared:    </th> <td>   0.191</td>\n",
       "</tr>\n",
       "<tr>\n",
       "  <th>Method:</th>             <td>Least Squares</td>  <th>  F-statistic:       </th> <td>   61.14</td>\n",
       "</tr>\n",
       "<tr>\n",
       "  <th>Date:</th>             <td>Sun, 01 May 2022</td> <th>  Prob (F-statistic):</th> <td>1.50e-57</td>\n",
       "</tr>\n",
       "<tr>\n",
       "  <th>Time:</th>                 <td>21:53:24</td>     <th>  Log-Likelihood:    </th> <td> -1517.5</td>\n",
       "</tr>\n",
       "<tr>\n",
       "  <th>No. Observations:</th>      <td>  1359</td>      <th>  AIC:               </th> <td>   3047.</td>\n",
       "</tr>\n",
       "<tr>\n",
       "  <th>Df Residuals:</th>          <td>  1353</td>      <th>  BIC:               </th> <td>   3078.</td>\n",
       "</tr>\n",
       "<tr>\n",
       "  <th>Df Model:</th>              <td>     5</td>      <th>                     </th>     <td> </td>   \n",
       "</tr>\n",
       "<tr>\n",
       "  <th>Covariance Type:</th>         <td>HC1</td>       <th>                     </th>     <td> </td>   \n",
       "</tr>\n",
       "</table>\n",
       "<table class=\"simpletable\">\n",
       "<tr>\n",
       "            <td></td>              <th>coef</th>     <th>std err</th>      <th>z</th>      <th>P>|z|</th>  <th>[0.025</th>    <th>0.975]</th>  \n",
       "</tr>\n",
       "<tr>\n",
       "  <th>const</th>                <td>    6.7409</td> <td>    0.082</td> <td>   81.936</td> <td> 0.000</td> <td>    6.580</td> <td>    6.902</td>\n",
       "</tr>\n",
       "<tr>\n",
       "  <th>volatile acidity</th>     <td>   -1.6809</td> <td>    0.122</td> <td>  -13.790</td> <td> 0.000</td> <td>   -1.920</td> <td>   -1.442</td>\n",
       "</tr>\n",
       "<tr>\n",
       "  <th>residual sugar</th>       <td>    0.0273</td> <td>    0.019</td> <td>    1.475</td> <td> 0.140</td> <td>   -0.009</td> <td>    0.064</td>\n",
       "</tr>\n",
       "<tr>\n",
       "  <th>chlorides</th>            <td>   -1.7082</td> <td>    0.374</td> <td>   -4.569</td> <td> 0.000</td> <td>   -2.441</td> <td>   -0.975</td>\n",
       "</tr>\n",
       "<tr>\n",
       "  <th>free sulfur dioxide</th>  <td>    0.0054</td> <td>    0.003</td> <td>    2.014</td> <td> 0.044</td> <td>    0.000</td> <td>    0.011</td>\n",
       "</tr>\n",
       "<tr>\n",
       "  <th>total sulfur dioxide</th> <td>   -0.0050</td> <td>    0.001</td> <td>   -5.387</td> <td> 0.000</td> <td>   -0.007</td> <td>   -0.003</td>\n",
       "</tr>\n",
       "</table>\n",
       "<table class=\"simpletable\">\n",
       "<tr>\n",
       "  <th>Omnibus:</th>       <td>17.069</td> <th>  Durbin-Watson:     </th> <td>   1.840</td>\n",
       "</tr>\n",
       "<tr>\n",
       "  <th>Prob(Omnibus):</th> <td> 0.000</td> <th>  Jarque-Bera (JB):  </th> <td>  23.565</td>\n",
       "</tr>\n",
       "<tr>\n",
       "  <th>Skew:</th>          <td> 0.139</td> <th>  Prob(JB):          </th> <td>7.64e-06</td>\n",
       "</tr>\n",
       "<tr>\n",
       "  <th>Kurtosis:</th>      <td> 3.582</td> <th>  Cond. No.          </th> <td>1.22e+03</td>\n",
       "</tr>\n",
       "</table><br/><br/>Notes:<br/>[1] Standard Errors are heteroscedasticity robust (HC1)<br/>[2] The condition number is large, 1.22e+03. This might indicate that there are<br/>strong multicollinearity or other numerical problems."
      ],
      "text/plain": [
       "<class 'statsmodels.iolib.summary.Summary'>\n",
       "\"\"\"\n",
       "                            OLS Regression Results                            \n",
       "==============================================================================\n",
       "Dep. Variable:                quality   R-squared:                       0.194\n",
       "Model:                            OLS   Adj. R-squared:                  0.191\n",
       "Method:                 Least Squares   F-statistic:                     61.14\n",
       "Date:                Sun, 01 May 2022   Prob (F-statistic):           1.50e-57\n",
       "Time:                        21:53:24   Log-Likelihood:                -1517.5\n",
       "No. Observations:                1359   AIC:                             3047.\n",
       "Df Residuals:                    1353   BIC:                             3078.\n",
       "Df Model:                           5                                         \n",
       "Covariance Type:                  HC1                                         \n",
       "========================================================================================\n",
       "                           coef    std err          z      P>|z|      [0.025      0.975]\n",
       "----------------------------------------------------------------------------------------\n",
       "const                    6.7409      0.082     81.936      0.000       6.580       6.902\n",
       "volatile acidity        -1.6809      0.122    -13.790      0.000      -1.920      -1.442\n",
       "residual sugar           0.0273      0.019      1.475      0.140      -0.009       0.064\n",
       "chlorides               -1.7082      0.374     -4.569      0.000      -2.441      -0.975\n",
       "free sulfur dioxide      0.0054      0.003      2.014      0.044       0.000       0.011\n",
       "total sulfur dioxide    -0.0050      0.001     -5.387      0.000      -0.007      -0.003\n",
       "==============================================================================\n",
       "Omnibus:                       17.069   Durbin-Watson:                   1.840\n",
       "Prob(Omnibus):                  0.000   Jarque-Bera (JB):               23.565\n",
       "Skew:                           0.139   Prob(JB):                     7.64e-06\n",
       "Kurtosis:                       3.582   Cond. No.                     1.22e+03\n",
       "==============================================================================\n",
       "\n",
       "Notes:\n",
       "[1] Standard Errors are heteroscedasticity robust (HC1)\n",
       "[2] The condition number is large, 1.22e+03. This might indicate that there are\n",
       "strong multicollinearity or other numerical problems.\n",
       "\"\"\""
      ]
     },
     "execution_count": 13,
     "metadata": {},
     "output_type": "execute_result"
    }
   ],
   "source": [
    "model_vif_adj = sm.OLS(y, vif_adj_x)\n",
    "results_v = model_vif_adj.fit(cov_type=\"HC1\")\n",
    "results_v.summary()"
   ]
  },
  {
   "cell_type": "code",
   "execution_count": 14,
   "id": "00db0aaa",
   "metadata": {},
   "outputs": [],
   "source": [
    "regression_results = {\"OLS\": mean_squared_error(y, results_v.predict())}"
   ]
  },
  {
   "cell_type": "markdown",
   "id": "243af55f",
   "metadata": {},
   "source": [
    "Xgboost"
   ]
  },
  {
   "cell_type": "code",
   "execution_count": 15,
   "id": "2bfb1bbb",
   "metadata": {},
   "outputs": [],
   "source": [
    "xgb_model = xgb.XGBRegressor()\n",
    "cv = RepeatedKFold(n_splits=5, n_repeats=3, random_state=42)\n",
    "xgb_model.fit(X_train, y_train)\n",
    "scores = cross_val_score(xgb_model, X_test, y_test, scoring=\"neg_mean_squared_error\", cv=cv)\n",
    "regression_results[\"XGB\"] = abs(scores.mean())"
   ]
  },
  {
   "cell_type": "code",
   "execution_count": 16,
   "id": "45ea6e5a",
   "metadata": {},
   "outputs": [],
   "source": [
    "%matplotlib inline"
   ]
  },
  {
   "cell_type": "code",
   "execution_count": 17,
   "id": "b1c29d6f",
   "metadata": {
    "scrolled": true
   },
   "outputs": [
    {
     "data": {
      "text/plain": [
       "<AxesSubplot:title={'center':'Feature importance'}, xlabel='F score', ylabel='Features'>"
      ]
     },
     "execution_count": 17,
     "metadata": {},
     "output_type": "execute_result"
    },
    {
     "data": {
      "image/png": "[encoded data removed]",
      "text/plain": [
       "<Figure size 432x288 with 1 Axes>"
      ]
     },
     "metadata": {
      "needs_background": "light"
     },
     "output_type": "display_data"
    }
   ],
   "source": [
    "xgb.plot_importance(xgb_model)\n"
   ]
  },
  {
   "cell_type": "code",
   "execution_count": 18,
   "id": "19dcdb40",
   "metadata": {},
   "outputs": [
    {
     "name": "stdout",
     "output_type": "stream",
     "text": [
      "Fitting 15 folds for each of 500 candidates, totalling 7500 fits\n"
     ]
    },
    {
     "data": {
      "text/plain": [
       "RandomizedSearchCV(cv=RepeatedKFold(n_repeats=3, n_splits=5, random_state=42),\n",
       "                   estimator=XGBRegressor(base_score=None, booster=None,\n",
       "                                          callbacks=None,\n",
       "                                          colsample_bylevel=None,\n",
       "                                          colsample_bynode=None,\n",
       "                                          colsample_bytree=None,\n",
       "                                          early_stopping_rounds=None,\n",
       "                                          enable_categorical=False,\n",
       "                                          eval_metric=None, gamma=None,\n",
       "                                          gpu_id=None, grow_policy=None,\n",
       "                                          importance_type=None,\n",
       "                                          interactio...\n",
       "                   param_distributions={'alpha': array([0.1, 0.2, 0.3, 0.4, 0.5, 0.6, 0.7, 0.8]),\n",
       "                                        'colsample_bytree': [0.3, 0.5, 0.7],\n",
       "                                        'gamma': array([0.1, 0.2, 0.3, 0.4, 0.5, 0.6, 0.7, 0.8]),\n",
       "                                        'lambda': array([0.1, 0.2, 0.3, 0.4, 0.5, 0.6, 0.7, 0.8]),\n",
       "                                        'learning_rate': array([0.01 , 0.035, 0.06 , 0.085, 0.11 , 0.135, 0.16 , 0.185, 0.21 ,\n",
       "       0.235]),\n",
       "                                        'max_depth': range(1, 7),\n",
       "                                        'n_estimators': array([10, 20, 30, 40, 50, 60, 70, 80, 90])},\n",
       "                   scoring='neg_mean_squared_error', verbose=1)"
      ]
     },
     "execution_count": 18,
     "metadata": {},
     "output_type": "execute_result"
    }
   ],
   "source": [
    "params = {'max_depth': range(1, 7),\n",
    "       'learning_rate': np.arange(0.01, 0.25, 0.025),\n",
    "       'n_estimators': np.arange(10, 100, 10),\n",
    "       'colsample_bytree': [0.3, 0.5, 0.7],\n",
    "        'alpha': np.arange(0.1, 0.9, 0.1),\n",
    "        'lambda': np.arange(0.1, 0.9, 0.1),\n",
    "        'gamma': np.arange(0.1, 0.9, 0.1)}\n",
    "xgb_h = xgb.XGBRegressor()\n",
    "clf = RandomizedSearchCV(estimator=xgb_h, \n",
    "                   param_distributions=params,\n",
    "                   scoring='neg_mean_squared_error', \n",
    "                   n_iter=500,\n",
    "                   n_jobs=-1,\n",
    "                   verbose=1,\n",
    "                   cv=cv)\n",
    "clf.fit(X_train, y_train)"
   ]
  },
  {
   "cell_type": "code",
   "execution_count": 19,
   "id": "7aefc0eb",
   "metadata": {},
   "outputs": [],
   "source": [
    "xgb_hp = xgb.XGBRegressor(**clf.best_params_)\n",
    "scores_hp = cross_val_score(xgb_hp, X, y, scoring='neg_mean_squared_error', cv=cv)\n",
    "regression_results['XGB_hp'] = abs(scores_hp.mean())"
   ]
  },
  {
   "cell_type": "code",
   "execution_count": 20,
   "id": "4e71b5af",
   "metadata": {},
   "outputs": [
    {
     "data": {
      "text/plain": [
       "{'OLS': 0.5462842088896603,\n",
       " 'XGB': 0.47018256390861607,\n",
       " 'XGB_hp': 0.4216657587428748}"
      ]
     },
     "execution_count": 20,
     "metadata": {},
     "output_type": "execute_result"
    }
   ],
   "source": [
    "regression_results"
   ]
  },
  {
   "cell_type": "code",
   "execution_count": 21,
   "id": "c3b4dedd",
   "metadata": {},
   "outputs": [
    {
     "data": {
      "text/plain": [
       "(array([0, 1]), array([1342,   17], dtype=int64))"
      ]
     },
     "execution_count": 21,
     "metadata": {},
     "output_type": "execute_result"
    }
   ],
   "source": [
    "good = np.where(df.quality > 7, 1, 0)\n",
    "np.unique(good, return_counts=True)"
   ]
  },
  {
   "cell_type": "code",
   "execution_count": 22,
   "id": "789ec673",
   "metadata": {},
   "outputs": [],
   "source": [
    "X_train, X_test, y_train, y_test = train_test_split(X, good, test_size=0.2, random_state=42, stratify = good)\n",
    "#imbalanced classes -> stratify"
   ]
  },
  {
   "cell_type": "code",
   "execution_count": 23,
   "id": "d402b0d4",
   "metadata": {},
   "outputs": [
    {
     "data": {
      "text/plain": [
       "LogisticRegression(max_iter=1000)"
      ]
     },
     "execution_count": 23,
     "metadata": {},
     "output_type": "execute_result"
    }
   ],
   "source": [
    "lr = LogisticRegression(max_iter=1000)\n",
    "lr.fit(X_train, y_train)"
   ]
  },
  {
   "cell_type": "code",
   "execution_count": 24,
   "id": "e63e6c84",
   "metadata": {},
   "outputs": [
    {
     "data": {
      "text/plain": [
       "GaussianNB()"
      ]
     },
     "execution_count": 24,
     "metadata": {},
     "output_type": "execute_result"
    }
   ],
   "source": [
    "nb = GaussianNB()\n",
    "nb.fit(X_train, y_train)"
   ]
  },
  {
   "cell_type": "code",
   "execution_count": 25,
   "id": "7183b2ed",
   "metadata": {},
   "outputs": [
    {
     "data": {
      "text/plain": [
       "KNeighborsClassifier()"
      ]
     },
     "execution_count": 25,
     "metadata": {},
     "output_type": "execute_result"
    }
   ],
   "source": [
    "GaussianNB()\n",
    "knn = KNeighborsClassifier()\n",
    "knn.fit(X_train, y_train)"
   ]
  },
  {
   "cell_type": "code",
   "execution_count": 26,
   "id": "a345b616",
   "metadata": {},
   "outputs": [
    {
     "data": {
      "text/plain": [
       "SVC()"
      ]
     },
     "execution_count": 26,
     "metadata": {},
     "output_type": "execute_result"
    }
   ],
   "source": [
    "svm = SVC()\n",
    "svm.fit(X_train, y_train)"
   ]
  },
  {
   "cell_type": "code",
   "execution_count": 27,
   "id": "40fd1828",
   "metadata": {},
   "outputs": [
    {
     "data": {
      "text/plain": [
       "XGBClassifier(base_score=0.5, booster='gbtree', callbacks=None,\n",
       "              colsample_bylevel=1, colsample_bynode=1, colsample_bytree=1,\n",
       "              early_stopping_rounds=None, enable_categorical=False,\n",
       "              eval_metric=None, gamma=0, gpu_id=-1, grow_policy='depthwise',\n",
       "              importance_type=None, interaction_constraints='',\n",
       "              learning_rate=0.300000012, max_bin=256, max_cat_to_onehot=4,\n",
       "              max_delta_step=0, max_depth=6, max_leaves=0, min_child_weight=1,\n",
       "              missing=nan, monotone_constraints='()', n_estimators=100,\n",
       "              n_jobs=0, num_parallel_tree=1, predictor='auto', random_state=0,\n",
       "              reg_alpha=0, reg_lambda=1, ...)"
      ]
     },
     "execution_count": 27,
     "metadata": {},
     "output_type": "execute_result"
    }
   ],
   "source": [
    "SVC()\n",
    "xgb_c = xgb.XGBClassifier()\n",
    "xgb_c.fit(X_train, y_train)"
   ]
  },
  {
   "cell_type": "code",
   "execution_count": 28,
   "id": "7a639f66",
   "metadata": {},
   "outputs": [
    {
     "data": {
      "text/plain": [
       "<sklearn.metrics._plot.roc_curve.RocCurveDisplay at 0x18762f53130>"
      ]
     },
     "execution_count": 28,
     "metadata": {},
     "output_type": "execute_result"
    },
    {
     "data": {
      "image/png": "[encoded data removed]",
      "text/plain": [
       "<Figure size 432x288 with 1 Axes>"
      ]
     },
     "metadata": {
      "needs_background": "light"
     },
     "output_type": "display_data"
    }
   ],
   "source": [
    "roc = plot_roc_curve(lr, X_test, y_test)\n",
    "plot_roc_curve(knn, X_test, y_test, ax = roc.ax_)\n",
    "plot_roc_curve(nb, X_test, y_test, ax = roc.ax_)\n",
    "plot_roc_curve(svm, X_test, y_test, ax = roc.ax_)\n",
    "plot_roc_curve(xgb_c, X_test, y_test, ax = roc.ax_)"
   ]
  },
  {
   "cell_type": "code",
   "execution_count": null,
   "id": "106580ae",
   "metadata": {},
   "outputs": [],
   "source": []
  }
 ],
 "metadata": {
  "kernelspec": {
   "display_name": "Python 3 (ipykernel)",
   "language": "python",
   "name": "python3"
  },
  "language_info": {
   "codemirror_mode": {
    "name": "ipython",
    "version": 3
   },
   "file_extension": ".py",
   "mimetype": "text/x-python",
   "name": "python",
   "nbconvert_exporter": "python",
   "pygments_lexer": "ipython3",
   "version": "3.9.7"
  }
 },
 "nbformat": 4,
 "nbformat_minor": 5
}
